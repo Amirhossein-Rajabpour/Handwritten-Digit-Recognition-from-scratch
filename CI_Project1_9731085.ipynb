{
  "nbformat": 4,
  "nbformat_minor": 0,
  "metadata": {
    "colab": {
      "name": "CI_Project1.ipynb",
      "provenance": [],
      "collapsed_sections": [
        "Rw4vdDel6e9Q",
        "EGX7zrUs7GKm",
        "--gIhoJt7Rtf",
        "v-j4HNlA7lzs",
        "WfnhXA8P8A8o",
        "yIuDSCql8J3m"
      ],
      "toc_visible": true
    },
    "kernelspec": {
      "name": "python3",
      "display_name": "Python 3"
    },
    "language_info": {
      "name": "python"
    },
    "accelerator": "GPU"
  },
  "cells": [
    {
      "cell_type": "markdown",
      "metadata": {
        "id": "cxtvqkgc8V57"
      },
      "source": [
        "**Computational Intelligence Project <br>\n",
        "Handwritten Digit Recognotion <br>\n",
        "Amirhossein Rajabpour <br>\n",
        "Fall 2021**"
      ]
    },
    {
      "cell_type": "markdown",
      "metadata": {
        "id": "Rw4vdDel6e9Q"
      },
      "source": [
        "## **Step One: Getting the Dataset**"
      ]
    },
    {
      "cell_type": "code",
      "metadata": {
        "id": "EQBJi83Y6H00",
        "colab": {
          "base_uri": "https://localhost:8080/"
        },
        "outputId": "cfa9449d-db4b-45b9-c14c-ca7783382b46"
      },
      "source": [
        "from google.colab import drive\n",
        "drive.mount('/content/gdrive', force_remount=True)\n",
        "root_dir = \"/content/gdrive/My Drive/\"\n",
        "base_dir = root_dir + 'Computer Intelligence Course/Project 1'"
      ],
      "execution_count": null,
      "outputs": [
        {
          "output_type": "stream",
          "text": [
            "Mounted at /content/gdrive\n"
          ],
          "name": "stdout"
        }
      ]
    },
    {
      "cell_type": "code",
      "metadata": {
        "id": "D8pj7NwTxc-Q"
      },
      "source": [
        "import numpy as np\n",
        "import pandas as pd\n",
        "import matplotlib.pyplot as plt\n",
        "\n",
        "# A function to plot images\n",
        "def show_image(img):\n",
        "    image = img.reshape((28, 28))\n",
        "    plt.imshow(image, 'gray')"
      ],
      "execution_count": null,
      "outputs": []
    },
    {
      "cell_type": "code",
      "metadata": {
        "id": "ltEuteOtxlgv"
      },
      "source": [
        "# Reading The Train Set\n",
        "train_images_file = open(base_dir + '/train-images.idx3-ubyte', 'rb')\n",
        "train_images_file.seek(4)\n",
        "num_of_train_images = int.from_bytes(train_images_file.read(4), 'big')\n",
        "train_images_file.seek(16)\n",
        "\n",
        "train_labels_file = open(base_dir + '/train-labels.idx1-ubyte', 'rb')\n",
        "train_labels_file.seek(8)\n",
        "\n",
        "train_set = []\n",
        "for n in range(num_of_train_images):\n",
        "    image = np.zeros((784, 1))\n",
        "    for i in range(784):\n",
        "        image[i, 0] = int.from_bytes(train_images_file.read(1), 'big') / 256\n",
        "    \n",
        "    label_value = int.from_bytes(train_labels_file.read(1), 'big')\n",
        "    label = np.zeros((10, 1))\n",
        "    label[label_value, 0] = 1\n",
        "    \n",
        "    train_set.append((image, label))"
      ],
      "execution_count": null,
      "outputs": []
    },
    {
      "cell_type": "code",
      "metadata": {
        "id": "DO6D7HHS_ICD"
      },
      "source": [
        "# Reading The Test Set\n",
        "test_images_file = open(base_dir + '/t10k-images.idx3-ubyte', 'rb')\n",
        "test_images_file.seek(4)\n",
        "\n",
        "test_labels_file = open(base_dir + '/t10k-labels.idx1-ubyte', 'rb')\n",
        "test_labels_file.seek(8)\n",
        "\n",
        "num_of_test_images = int.from_bytes(test_images_file.read(4), 'big')\n",
        "test_images_file.seek(16)\n",
        "\n",
        "test_set = []\n",
        "for n in range(num_of_test_images):\n",
        "    image = np.zeros((784, 1))\n",
        "    for i in range(784):\n",
        "        image[i] = int.from_bytes(test_images_file.read(1), 'big') / 256\n",
        "    \n",
        "    label_value = int.from_bytes(test_labels_file.read(1), 'big')\n",
        "    label = np.zeros((10, 1))\n",
        "    label[label_value, 0] = 1\n",
        "    \n",
        "    test_set.append((image, label))"
      ],
      "execution_count": null,
      "outputs": []
    },
    {
      "cell_type": "code",
      "metadata": {
        "colab": {
          "base_uri": "https://localhost:8080/",
          "height": 283
        },
        "id": "18YLBzr8_d-t",
        "outputId": "7e8f4b32-b8f0-4aba-9c46-ad90bf049904"
      },
      "source": [
        "# Plotting an image\n",
        "show_image(train_set[0][0])\n",
        "plt.show()\n",
        "print(np.argmax(train_set[0][1]))"
      ],
      "execution_count": null,
      "outputs": [
        {
          "output_type": "display_data",
          "data": {
            "image/png": "[encoded data removed]",
            "text/plain": [
              "<Figure size 432x288 with 1 Axes>"
            ]
          },
          "metadata": {
            "tags": [],
            "needs_background": "light"
          }
        },
        {
          "output_type": "stream",
          "text": [
            "5\n"
          ],
          "name": "stdout"
        }
      ]
    },
    {
      "cell_type": "code",
      "metadata": {
        "colab": {
          "base_uri": "https://localhost:8080/",
          "height": 283
        },
        "id": "l4gnSI2XI-8f",
        "outputId": "e5a9ea86-60d3-493e-babc-68e9b2be8e1e"
      },
      "source": [
        "show_image(test_set[19][0])\n",
        "plt.show()\n",
        "print(np.argmax(test_set[19][1]))"
      ],
      "execution_count": null,
      "outputs": [
        {
          "output_type": "display_data",
          "data": {
            "image/png": "[encoded data removed]",
            "text/plain": [
              "<Figure size 432x288 with 1 Axes>"
            ]
          },
          "metadata": {
            "tags": [],
            "needs_background": "light"
          }
        },
        {
          "output_type": "stream",
          "text": [
            "4\n"
          ],
          "name": "stdout"
        }
      ]
    },
    {
      "cell_type": "code",
      "metadata": {
        "colab": {
          "base_uri": "https://localhost:8080/"
        },
        "id": "0bxo7xGwJLqj",
        "outputId": "1effa190-44fa-44a7-801c-23e1f027f9a1"
      },
      "source": [
        "train_df = pd.DataFrame(data=train_set)\n",
        "train_df.info"
      ],
      "execution_count": null,
      "outputs": [
        {
          "output_type": "execute_result",
          "data": {
            "text/plain": [
              "<bound method DataFrame.info of                                                        0                                                  1\n",
              "0      [[0.0], [0.0], [0.0], [0.0], [0.0], [0.0], [0....  [[0.0], [0.0], [0.0], [0.0], [0.0], [1.0], [0....\n",
              "1      [[0.0], [0.0], [0.0], [0.0], [0.0], [0.0], [0....  [[1.0], [0.0], [0.0], [0.0], [0.0], [0.0], [0....\n",
              "2      [[0.0], [0.0], [0.0], [0.0], [0.0], [0.0], [0....  [[0.0], [0.0], [0.0], [0.0], [1.0], [0.0], [0....\n",
              "3      [[0.0], [0.0], [0.0], [0.0], [0.0], [0.0], [0....  [[0.0], [1.0], [0.0], [0.0], [0.0], [0.0], [0....\n",
              "4      [[0.0], [0.0], [0.0], [0.0], [0.0], [0.0], [0....  [[0.0], [0.0], [0.0], [0.0], [0.0], [0.0], [0....\n",
              "...                                                  ...                                                ...\n",
              "59995  [[0.0], [0.0], [0.0], [0.0], [0.0], [0.0], [0....  [[0.0], [0.0], [0.0], [0.0], [0.0], [0.0], [0....\n",
              "59996  [[0.0], [0.0], [0.0], [0.0], [0.0], [0.0], [0....  [[0.0], [0.0], [0.0], [1.0], [0.0], [0.0], [0....\n",
              "59997  [[0.0], [0.0], [0.0], [0.0], [0.0], [0.0], [0....  [[0.0], [0.0], [0.0], [0.0], [0.0], [1.0], [0....\n",
              "59998  [[0.0], [0.0], [0.0], [0.0], [0.0], [0.0], [0....  [[0.0], [0.0], [0.0], [0.0], [0.0], [0.0], [1....\n",
              "59999  [[0.0], [0.0], [0.0], [0.0], [0.0], [0.0], [0....  [[0.0], [0.0], [0.0], [0.0], [0.0], [0.0], [0....\n",
              "\n",
              "[60000 rows x 2 columns]>"
            ]
          },
          "metadata": {
            "tags": []
          },
          "execution_count": 7
        }
      ]
    },
    {
      "cell_type": "code",
      "metadata": {
        "colab": {
          "base_uri": "https://localhost:8080/"
        },
        "id": "pycKPMFQYw7T",
        "outputId": "aefd7183-3984-4465-8ee6-c3506d46e51d"
      },
      "source": [
        "test_df = pd.DataFrame(data=test_set)\n",
        "test_df.shape"
      ],
      "execution_count": null,
      "outputs": [
        {
          "output_type": "execute_result",
          "data": {
            "text/plain": [
              "(10000, 2)"
            ]
          },
          "metadata": {
            "tags": []
          },
          "execution_count": 8
        }
      ]
    },
    {
      "cell_type": "markdown",
      "metadata": {
        "id": "EGX7zrUs7GKm"
      },
      "source": [
        "## **Step Two: Feedforward**"
      ]
    },
    {
      "cell_type": "code",
      "metadata": {
        "id": "sWaQDi6-UeEb"
      },
      "source": [
        "def sigmoid(x):\n",
        "  return 1 / (1 + np.exp(-x))"
      ],
      "execution_count": null,
      "outputs": []
    },
    {
      "cell_type": "code",
      "metadata": {
        "id": "RhLBX04jRkZ8"
      },
      "source": [
        "def feedforward(W, a, b, activation_func):\n",
        "  z = (W @ a) + b\n",
        "  if activation_func == 'sigmoid':\n",
        "    return sigmoid(z)\n",
        "  elif activation_func == 'leaky-relu':\n",
        "    return np.where(z > 0, z, z * 0.01)"
      ],
      "execution_count": null,
      "outputs": []
    },
    {
      "cell_type": "markdown",
      "metadata": {
        "id": "Jyo-rx5sP3v2"
      },
      "source": [
        "Allocating `W` matrix and vector `b` for each layer <br>"
      ]
    },
    {
      "cell_type": "code",
      "metadata": {
        "id": "_w5ECYRo7OXK"
      },
      "source": [
        "W_1 = np.random.standard_normal(size=(16, 784))\n",
        "b_1 = np.zeros((16, 1))\n",
        "\n",
        "W_2 = np.random.standard_normal(size=(16, 16))\n",
        "b_2 = np.zeros((16, 1))\n",
        "\n",
        "W_3 = np.random.standard_normal(size=(10, 16))\n",
        "b_3 = np.zeros((10, 1))"
      ],
      "execution_count": null,
      "outputs": []
    },
    {
      "cell_type": "markdown",
      "metadata": {
        "id": "Z2A4bDwPU8-M"
      },
      "source": [
        "First feedforward on the first 100 images and see the result"
      ]
    },
    {
      "cell_type": "code",
      "metadata": {
        "id": "fQGMEhKBVPca"
      },
      "source": [
        "tmp_train_df = train_df[:][:100]"
      ],
      "execution_count": null,
      "outputs": []
    },
    {
      "cell_type": "code",
      "metadata": {
        "id": "VJLxfD3Aa3pO"
      },
      "source": [
        "true_ones = 0\n",
        "for i in range(len(tmp_train_df)):\n",
        "  a_1 = feedforward(W_1, tmp_train_df[0][i], b_1, 'sigmoid')\n",
        "  a_2 = feedforward(W_2, a_1, b_2, 'sigmoid')\n",
        "  a_3 = feedforward(W_3, a_2, b_3, 'sigmoid')\n",
        "\n",
        "  if (np.argmax(a_3)) == (np.argmax(tmp_train_df[1][i])):\n",
        "    true_ones += 1"
      ],
      "execution_count": null,
      "outputs": []
    },
    {
      "cell_type": "code",
      "metadata": {
        "colab": {
          "base_uri": "https://localhost:8080/"
        },
        "id": "QQWjFZniiSdP",
        "outputId": "b97a4e38-7784-4b32-b389-c40dede15def"
      },
      "source": [
        "accuracy = int((true_ones/len(tmp_train_df)) * 100)\n",
        "print('accuracy is:', accuracy, '%')"
      ],
      "execution_count": null,
      "outputs": [
        {
          "output_type": "stream",
          "text": [
            "accuracy is: 10 %\n"
          ],
          "name": "stdout"
        }
      ]
    },
    {
      "cell_type": "markdown",
      "metadata": {
        "id": "7Esup7u0qmVy"
      },
      "source": [
        "Accuracy is very low. We just feedforward the network and didn't backpropagate."
      ]
    },
    {
      "cell_type": "markdown",
      "metadata": {
        "id": "--gIhoJt7Rtf"
      },
      "source": [
        "## **Step Three: Backpropagation**"
      ]
    },
    {
      "cell_type": "code",
      "metadata": {
        "id": "SxnKhhi7Ifg9"
      },
      "source": [
        "def activation_deriv(x, activation_func):\n",
        "  if activation_func == 'sigmoid':\n",
        "    return sigmoid(x)*(1-sigmoid(x))\n",
        "  elif activation_func == 'leaky-relu':\n",
        "    return np.where(x < 0, 0.01, 1)"
      ],
      "execution_count": null,
      "outputs": []
    },
    {
      "cell_type": "code",
      "metadata": {
        "id": "-6V-ED0-hbb_"
      },
      "source": [
        "def cost_calculator(a3, y):\n",
        "  cost, s = 0, 0\n",
        "  d1, d2 = a3.shape\n",
        "  for d in range(d1):\n",
        "    s = (a3[d,0] - y[d]) * (a3[d,0] - y[d])\n",
        "    cost += s\n",
        "  return cost"
      ],
      "execution_count": null,
      "outputs": []
    },
    {
      "cell_type": "markdown",
      "metadata": {
        "id": "t2lLs9rER2xB"
      },
      "source": [
        "This function takes a **dataset** and our **weights** and **biases** (weights and biases are updated in Neural Network) and calculate the output for each image in dataset and then compare it with the actual labels in order to calculate the accuracy of our model. and returns the accuracy."
      ]
    },
    {
      "cell_type": "code",
      "metadata": {
        "id": "9GKT2bFVQuKv"
      },
      "source": [
        "def predict_and_accuracy_calculator(dataset, W, b, activation_func):\n",
        "  true_ones = 0\n",
        "  for image_index in range(len(dataset)):\n",
        "    a_1 = feedforward(W[0], dataset[0][image_index], b[0], activation_func)\n",
        "    a_2 = feedforward(W[1], a_1, b[1], activation_func)\n",
        "    a_3 = feedforward(W[2], a_2, b[2], activation_func)\n",
        "    if (np.argmax(a_3)) == (np.argmax(dataset[1][image_index])):\n",
        "      true_ones += 1\n",
        "  accuracy = (true_ones/len(dataset)) * 100\n",
        "  return accuracy"
      ],
      "execution_count": null,
      "outputs": []
    },
    {
      "cell_type": "markdown",
      "metadata": {
        "id": "xMX6psAaRGK8"
      },
      "source": [
        "Setting `learning rate`, `number of epochs` and `batch size`"
      ]
    },
    {
      "cell_type": "code",
      "metadata": {
        "id": "aOrWvzwgRBzx"
      },
      "source": [
        "# alpha is our learning rate\n",
        "alpha = 1\n",
        "epoch_num = 20\n",
        "batch_size = 10"
      ],
      "execution_count": null,
      "outputs": []
    },
    {
      "cell_type": "markdown",
      "metadata": {
        "id": "avI-Epnanmec"
      },
      "source": [
        "Allocating `W` matrix and vector `b` for each layer <br>"
      ]
    },
    {
      "cell_type": "code",
      "metadata": {
        "id": "YqSxmdYx-JZV"
      },
      "source": [
        "def initialize():\n",
        "  W_1 = np.random.standard_normal(size=(16, 784))\n",
        "  b_1 = np.zeros((16, 1))\n",
        "\n",
        "  W_2 = np.random.standard_normal(size=(16, 16))\n",
        "  b_2 = np.zeros((16, 1))\n",
        "\n",
        "  W_3 = np.random.standard_normal(size=(10, 16))\n",
        "  b_3 = np.zeros((10, 1))\n",
        "\n",
        "  W = [W_1, W_2, W_3]\n",
        "  b = [b_1, b_2, b_3]\n",
        "\n",
        "  return W, b"
      ],
      "execution_count": null,
      "outputs": []
    },
    {
      "cell_type": "code",
      "metadata": {
        "id": "XzNGn-87Hn9T"
      },
      "source": [
        "W, b = initialize()"
      ],
      "execution_count": null,
      "outputs": []
    },
    {
      "cell_type": "code",
      "metadata": {
        "id": "TUIs_Dn5oDbv"
      },
      "source": [
        "cost_arr = []\n",
        "for e in range(epoch_num):\n",
        "  np.random.shuffle(tmp_train_df.values)\n",
        "  num_of_batches = int(np.ceil(len(tmp_train_df)/batch_size))\n",
        "  for batch_index in range(num_of_batches):\n",
        "\n",
        "    grad_W3 = np.zeros((10,16))\n",
        "    grad_b3 = np.zeros((10,1))\n",
        "\n",
        "    grad_W2 = np.zeros((16,16))\n",
        "    grad_b2 = np.zeros((16,1))\n",
        "\n",
        "    grad_W1 = np.zeros((16,784))\n",
        "    grad_b1 = np.zeros((16,1))\n",
        "\n",
        "    cost_batch = 0\n",
        "\n",
        "    for image_index in range(batch_size*batch_index, batch_size*(batch_index+1)):\n",
        "\n",
        "      # forward propagation\n",
        "      a_1 = feedforward(W[0], tmp_train_df[0][image_index], b[0], 'sigmoid')\n",
        "      a_2 = feedforward(W[1], a_1, b[1], 'sigmoid')\n",
        "      a_3 = feedforward(W[2], a_2, b[2], 'sigmoid')\n",
        "\n",
        "      cost_batch += cost_calculator(a_3, tmp_train_df[1][image_index])\n",
        "\n",
        "      z_3 = (W[2] @ a_2) + b[2]\n",
        "      z_2 = (W[1] @ a_1) + b[1]\n",
        "      z_1 = (W[0] @ tmp_train_df[0][image_index]) + b[0]\n",
        "\n",
        "\n",
        "      # backpropagation\n",
        "      # for output layer\n",
        "      for j in range(10):\n",
        "        for k in range(16):\n",
        "          grad_W3[j,k] += activation_deriv(z_3[j,0], 'sigmoid') * (2 * (a_3[j,0] - tmp_train_df[1][image_index][j])) * a_2[k,0]\n",
        "          grad_b3[j,0] += activation_deriv(z_3[j,0], 'sigmoid') * (2 * (a_3[j,0] - tmp_train_df[1][image_index][j]))\n",
        "\n",
        "      grad_a2 = np.zeros((16,1))\n",
        "      for k in range(16):\n",
        "        for j in range(10):\n",
        "          grad_a2[k,0] += W[2][j,k] * activation_deriv(z_3[j,0], 'sigmoid') * (2 * ( a_3[j,0] - tmp_train_df[1][image_index][j]))\n",
        "\n",
        "      # for hidden layer 2\n",
        "      for j in range(16):\n",
        "        for k in range(16):\n",
        "          grad_W2[j,k] += activation_deriv(z_2[j,0], 'sigmoid') * grad_a2[j,0] * a_1[k,0]\n",
        "          grad_b2[j,0] += activation_deriv(z_2[j,0], 'sigmoid') * grad_a2[j,0]\n",
        "\n",
        "      grad_a1 = np.zeros((16,1))\n",
        "      for k in range(16):\n",
        "        for j in range(16):\n",
        "          grad_a1[k,0] += W[1][j,k] * activation_deriv(z_2[j,0], 'sigmoid') * grad_a2[j,0]\n",
        "\n",
        "\n",
        "      # for hidden layer 1\n",
        "      for j in range(16):\n",
        "        for k in range(784):\n",
        "          grad_W1[j,k] += activation_deriv(z_1[j,0], 'sigmoid') * grad_a1[j,0] * tmp_train_df[0][image_index][k]\n",
        "          grad_b1[j,0] += activation_deriv(z_1[j,0], 'sigmoid') * grad_a1[j,0]\n",
        "\n",
        "\n",
        "    cost_arr.append(cost_batch)\n",
        "    cost_batch = 0\n",
        "    \n",
        "    # upgrading W metrices and b vectores\n",
        "    W[0] -= (alpha * (grad_W1/batch_size))\n",
        "    W[1] -= (alpha * (grad_W2/batch_size))\n",
        "    W[2] -= (alpha * (grad_W3/batch_size))\n",
        "\n",
        "    b[0] -= (alpha * (grad_b1/batch_size))\n",
        "    b[1] -= (alpha * (grad_b2/batch_size))\n",
        "    b[2] -= (alpha * (grad_b3/batch_size))\n"
      ],
      "execution_count": null,
      "outputs": []
    },
    {
      "cell_type": "markdown",
      "metadata": {
        "id": "muZkvWqiDJv-"
      },
      "source": [
        "It took almost 13 minutes to execute previous cell."
      ]
    },
    {
      "cell_type": "code",
      "metadata": {
        "colab": {
          "base_uri": "https://localhost:8080/"
        },
        "id": "6wUzOhNtQuK7",
        "outputId": "91c7a294-9157-4c63-d1be-3e668d5ef968"
      },
      "source": [
        "accuracy = int(predict_and_accuracy_calculator(tmp_train_df, W, b, 'sigmoid'))\n",
        "print('Accuracy of our model is:', accuracy, '%')"
      ],
      "execution_count": null,
      "outputs": [
        {
          "output_type": "stream",
          "text": [
            "Accuracy of our model is: 26 %\n"
          ],
          "name": "stdout"
        }
      ]
    },
    {
      "cell_type": "code",
      "metadata": {
        "colab": {
          "base_uri": "https://localhost:8080/",
          "height": 265
        },
        "id": "IvYc4mBZhnOp",
        "outputId": "9894eb46-07d8-47f8-8500-0a303714d184"
      },
      "source": [
        "import matplotlib.pyplot as plt\n",
        "plt.plot(cost_arr)\n",
        "plt.show()"
      ],
      "execution_count": null,
      "outputs": [
        {
          "output_type": "display_data",
          "data": {
            "image/png": "[encoded data removed]",
            "text/plain": [
              "<Figure size 432x288 with 1 Axes>"
            ]
          },
          "metadata": {
            "tags": [],
            "needs_background": "light"
          }
        }
      ]
    },
    {
      "cell_type": "markdown",
      "metadata": {
        "id": "Xi_sIkT2U9_e"
      },
      "source": [
        "The Cost function is decreasing. So we know that our Neural Network is operating correctly. It is also fluctuating and thats because of minibatches. Cost is calculated after each mini batch and also weights and biases are updated after each mini batch."
      ]
    },
    {
      "cell_type": "markdown",
      "metadata": {
        "id": "Y3zAnnVz7al4"
      },
      "source": [
        "## **Step Four: Vectorization**"
      ]
    },
    {
      "cell_type": "markdown",
      "metadata": {
        "id": "2cg2Fn1RE9O4"
      },
      "source": [
        "Now we create the previous NN again but this time without loops. This time we're using **vectorization**"
      ]
    },
    {
      "cell_type": "markdown",
      "metadata": {
        "id": "cYG7PaoHE1kj"
      },
      "source": [
        "Allocating `W` matrix and vector `b` for each layer <br>"
      ]
    },
    {
      "cell_type": "code",
      "metadata": {
        "id": "JOz0CVEEE1kj"
      },
      "source": [
        "W, b = initialize()"
      ],
      "execution_count": null,
      "outputs": []
    },
    {
      "cell_type": "code",
      "metadata": {
        "id": "a0wOykRTl4_q"
      },
      "source": [
        "def make_model(W, b, alpha, epoch_num, batch_size, data, activation_func):\n",
        "  cost_arr = []\n",
        "  for e in range(epoch_num):\n",
        "    np.random.shuffle(data.values)\n",
        "    num_of_batches = int(np.ceil(len(data)/batch_size))\n",
        "    for batch_index in range(num_of_batches):\n",
        "\n",
        "      grad_W3 = np.zeros((10,16))\n",
        "      grad_b3 = np.zeros((10,1))\n",
        "\n",
        "      grad_W2 = np.zeros((16,16))\n",
        "      grad_b2 = np.zeros((16,1))\n",
        "\n",
        "      grad_W1 = np.zeros((16,784))\n",
        "      grad_b1 = np.zeros((16,1))\n",
        "\n",
        "      cost_batch = 0\n",
        "      \n",
        "      for image_index in range(batch_size*batch_index, batch_size*(batch_index+1)):\n",
        "\n",
        "        # forward propagation\n",
        "        a_1 = feedforward(W[0], data[0][image_index], b[0], activation_func)\n",
        "        a_2 = feedforward(W[1], a_1, b[1], activation_func)\n",
        "        a_3 = feedforward(W[2], a_2, b[2], activation_func)\n",
        "\n",
        "        cost_batch += cost_calculator(a_3, data[1][image_index])\n",
        "\n",
        "        z_3 = (W[2] @ a_2) + b[2]\n",
        "        z_2 = (W[1] @ a_1) + b[1]\n",
        "        z_1 = (W[0] @ data[0][image_index]) + b[0]\n",
        "\n",
        "\n",
        "        # backpropagation\n",
        "        # for output layer\n",
        "        grad_W3 += (2 * activation_deriv(z_3, activation_func) * (a_3 - data[1][image_index])) @ (np.transpose(a_2))\n",
        "        grad_b3 += (2 * activation_deriv(z_3, activation_func) * (a_3 - data[1][image_index]))\n",
        "\n",
        "        grad_a2 = np.zeros((16,1))\n",
        "        grad_a2 = np.transpose(W[2]) @ (2 * activation_deriv(z_3, activation_func) * (a_3 - data[1][image_index]))\n",
        "\n",
        "\n",
        "        # for hidden layer 2\n",
        "        grad_W2 += (activation_deriv(z_2, activation_func) * grad_a2) @ (np.transpose(a_1))\n",
        "        grad_b2 += (activation_deriv(z_2, activation_func) * grad_a2)\n",
        "\n",
        "        grad_a1 = np.zeros((16,1))\n",
        "        grad_a1 = np.transpose(W[1]) @ (2 * activation_deriv(z_2, activation_func) * grad_a2)\n",
        "\n",
        "\n",
        "        # for hidden layer 1\n",
        "        grad_W1 += (activation_deriv(z_1, activation_func) * grad_a1) @ (np.transpose(data[0][image_index]))\n",
        "        grad_b1 += (activation_deriv(z_1, activation_func) * grad_a1)\n",
        "\n",
        "\n",
        "      cost_arr.append(cost_batch)\n",
        "      cost_batch = 0\n",
        "\n",
        "      # upgrading W metrices and b vectores\n",
        "      W[0] -= (alpha * (grad_W1/batch_size))\n",
        "      W[1] -= (alpha * (grad_W2/batch_size))\n",
        "      W[2] -= (alpha * (grad_W3/batch_size))\n",
        "\n",
        "      b[0] -= (alpha * (grad_b1/batch_size))\n",
        "      b[1] -= (alpha * (grad_b2/batch_size))\n",
        "      b[2] -= (alpha * (grad_b3/batch_size))\n",
        "\n",
        "  return W, b, cost_arr\n"
      ],
      "execution_count": null,
      "outputs": []
    },
    {
      "cell_type": "code",
      "metadata": {
        "id": "sWbSnfminziv"
      },
      "source": [
        "W, b, cost_arr = make_model(W, b, alpha=1, epoch_num=200, batch_size=10, data=train_df[:][:100], activation_func='sigmoid')"
      ],
      "execution_count": null,
      "outputs": []
    },
    {
      "cell_type": "markdown",
      "metadata": {
        "id": "b37UeWLgItVX"
      },
      "source": [
        "It took only 10 seconds to execute. The same NN with more epochs but implemented with **vectorization**"
      ]
    },
    {
      "cell_type": "code",
      "metadata": {
        "colab": {
          "base_uri": "https://localhost:8080/"
        },
        "id": "IFoDhU7gE1kk",
        "outputId": "ab06786d-8e10-4186-c4e6-e27be880791e"
      },
      "source": [
        "accuracy = predict_and_accuracy_calculator(tmp_train_df, W, b, 'sigmoid')\n",
        "print('Accuracy of our model for training set is:', accuracy)"
      ],
      "execution_count": null,
      "outputs": [
        {
          "output_type": "stream",
          "text": [
            "Accuracy of our model for training set is: 100.0\n"
          ],
          "name": "stdout"
        }
      ]
    },
    {
      "cell_type": "markdown",
      "metadata": {
        "id": "89y83gZBUl5l"
      },
      "source": [
        "cool!!"
      ]
    },
    {
      "cell_type": "code",
      "metadata": {
        "colab": {
          "base_uri": "https://localhost:8080/",
          "height": 265
        },
        "id": "ROltnOOCE1kk",
        "outputId": "2987232f-7156-45e4-93ab-d0f791d40c26"
      },
      "source": [
        "import matplotlib.pyplot as plt\n",
        "plt.plot(cost_arr)\n",
        "plt.show()"
      ],
      "execution_count": null,
      "outputs": [
        {
          "output_type": "display_data",
          "data": {
            "image/png": "[encoded data removed]",
            "text/plain": [
              "<Figure size 432x288 with 1 Axes>"
            ]
          },
          "metadata": {
            "tags": [],
            "needs_background": "light"
          }
        }
      ]
    },
    {
      "cell_type": "markdown",
      "metadata": {
        "id": "v-j4HNlA7lzs"
      },
      "source": [
        "## **Step Five: Testing the Model**"
      ]
    },
    {
      "cell_type": "markdown",
      "metadata": {
        "id": "i1F6oW5QXA8_"
      },
      "source": [
        "Now we are taking the whole dataset as the input and iterate over all images."
      ]
    },
    {
      "cell_type": "markdown",
      "metadata": {
        "id": "tN4LHanxYDaL"
      },
      "source": [
        "Allocating `W` matrix and vector `b` for each layer <br>"
      ]
    },
    {
      "cell_type": "code",
      "metadata": {
        "id": "SLv2Lr0CYDaL"
      },
      "source": [
        "W, b = initialize()"
      ],
      "execution_count": null,
      "outputs": []
    },
    {
      "cell_type": "code",
      "metadata": {
        "id": "ITYroOVnwmgu"
      },
      "source": [
        "W, b, cost_arr = make_model(W, b, alpha=1, epoch_num=5, batch_size=50, data=train_df, activation_func='sigmoid')"
      ],
      "execution_count": null,
      "outputs": []
    },
    {
      "cell_type": "markdown",
      "metadata": {
        "id": "REGtPsHNgKCq"
      },
      "source": [
        "It took about 4 minutes to execute the above cell."
      ]
    },
    {
      "cell_type": "code",
      "metadata": {
        "colab": {
          "base_uri": "https://localhost:8080/"
        },
        "id": "nqRIOrFYYDaM",
        "outputId": "b8eb6255-1231-4e96-89b9-60a53f1ca25b"
      },
      "source": [
        "train_accuracy = int(predict_and_accuracy_calculator(train_df, W, b, 'sigmoid'))\n",
        "print('Accuracy of our model for train set is:', train_accuracy, '%')"
      ],
      "execution_count": null,
      "outputs": [
        {
          "output_type": "stream",
          "text": [
            "Accuracy of our model for train set is: 92 %\n"
          ],
          "name": "stdout"
        }
      ]
    },
    {
      "cell_type": "code",
      "metadata": {
        "colab": {
          "base_uri": "https://localhost:8080/"
        },
        "id": "uJSd_Od4fqUY",
        "outputId": "0bc55e01-52c9-4688-95ce-796242194cfe"
      },
      "source": [
        "test_accuracy = int(predict_and_accuracy_calculator(test_df, W, b, 'sigmoid'))\n",
        "print('Accuracy of our model for test set is:', test_accuracy, '%')"
      ],
      "execution_count": null,
      "outputs": [
        {
          "output_type": "stream",
          "text": [
            "Accuracy of our model for test set is: 91 %\n"
          ],
          "name": "stdout"
        }
      ]
    },
    {
      "cell_type": "markdown",
      "metadata": {
        "id": "TNG4-mivgymu"
      },
      "source": [
        " 92% accuracy for training set and 91% accuracy for test set."
      ]
    },
    {
      "cell_type": "code",
      "metadata": {
        "colab": {
          "base_uri": "https://localhost:8080/",
          "height": 265
        },
        "id": "rkfjDpJvYDaO",
        "outputId": "3e75da84-59b0-41a8-f243-9371b10ddad4"
      },
      "source": [
        "import matplotlib.pyplot as plt\n",
        "plt.plot(cost_arr)\n",
        "plt.show()"
      ],
      "execution_count": null,
      "outputs": [
        {
          "output_type": "display_data",
          "data": {
            "image/png": "[encoded data removed]",
            "text/plain": [
              "<Figure size 432x288 with 1 Axes>"
            ]
          },
          "metadata": {
            "tags": [],
            "needs_background": "light"
          }
        }
      ]
    },
    {
      "cell_type": "markdown",
      "metadata": {
        "id": "BPdRlfxt7sy7"
      },
      "source": [
        "## **Extra Points**"
      ]
    },
    {
      "cell_type": "markdown",
      "metadata": {
        "id": "4Y4tLf7m74V5"
      },
      "source": [
        "## **Shifting the Images**"
      ]
    },
    {
      "cell_type": "markdown",
      "metadata": {
        "id": "SAShNOfhMA3b"
      },
      "source": [
        "Adding four black rows at the top of the image and shift 4 rows downwards."
      ]
    },
    {
      "cell_type": "code",
      "metadata": {
        "id": "-KqeCmNi70F0"
      },
      "source": [
        "def add_four_black_column(image):\n",
        "  for i in range(112):\n",
        "    image = np.insert(image, 0, 0.0)\n",
        "  image = np.reshape(image[:-112], (784,1))\n",
        "  return image"
      ],
      "execution_count": null,
      "outputs": []
    },
    {
      "cell_type": "code",
      "metadata": {
        "id": "P9xN-ABiMNlY"
      },
      "source": [
        "for i in range(len(test_df)):\n",
        "  new_image = add_four_black_column(test_df[0][i])\n",
        "  test_df[0][i] = new_image"
      ],
      "execution_count": null,
      "outputs": []
    },
    {
      "cell_type": "code",
      "metadata": {
        "colab": {
          "base_uri": "https://localhost:8080/",
          "height": 265
        },
        "id": "7uTg6bMOWKBj",
        "outputId": "a03fed23-2d24-4d05-87cd-87016fb7a4bd"
      },
      "source": [
        "show_image(test_set[10][0])\n",
        "plt.show()"
      ],
      "execution_count": null,
      "outputs": [
        {
          "output_type": "display_data",
          "data": {
            "image/png": "[encoded data removed]",
            "text/plain": [
              "<Figure size 432x288 with 1 Axes>"
            ]
          },
          "metadata": {
            "tags": [],
            "needs_background": "light"
          }
        }
      ]
    },
    {
      "cell_type": "code",
      "metadata": {
        "id": "ABhI8vsjQAr5",
        "colab": {
          "base_uri": "https://localhost:8080/",
          "height": 315
        },
        "outputId": "4901c1a3-0760-40ef-ac62-da6f18759ee3"
      },
      "source": [
        "from skimage import io\n",
        "data = np.reshape(test_df[0][10], (28,28))\n",
        "io.imshow(data)"
      ],
      "execution_count": null,
      "outputs": [
        {
          "output_type": "execute_result",
          "data": {
            "text/plain": [
              "<matplotlib.image.AxesImage at 0x7fdd5cf7c590>"
            ]
          },
          "metadata": {
            "tags": []
          },
          "execution_count": 105
        },
        {
          "output_type": "display_data",
          "data": {
            "image/png": "[encoded data removed]",
            "text/plain": [
              "<Figure size 432x288 with 1 Axes>"
            ]
          },
          "metadata": {
            "tags": [],
            "needs_background": "light"
          }
        }
      ]
    },
    {
      "cell_type": "markdown",
      "metadata": {
        "id": "0wslqesZIeuY"
      },
      "source": [
        "We can see that the number is not in the center of the picture anymore."
      ]
    },
    {
      "cell_type": "code",
      "metadata": {
        "id": "YUe_SJBSfOE-"
      },
      "source": [
        "W, b = initialize()"
      ],
      "execution_count": null,
      "outputs": []
    },
    {
      "cell_type": "code",
      "metadata": {
        "id": "7PDQcra2fOE_"
      },
      "source": [
        "W, b, cost_arr = make_model(W, b, alpha=1, epoch_num=5, batch_size=50, data=train_df, activation_func='sigmoid')"
      ],
      "execution_count": null,
      "outputs": []
    },
    {
      "cell_type": "code",
      "metadata": {
        "colab": {
          "base_uri": "https://localhost:8080/"
        },
        "id": "Ph2On3byfOE_",
        "outputId": "158845d6-8336-4f3d-9240-f4e297384901"
      },
      "source": [
        "test_accuracy = int(predict_and_accuracy_calculator(test_df, W, b, 'sigmoid'))\n",
        "print('Accuracy of our model for test set is:', test_accuracy, '%')"
      ],
      "execution_count": null,
      "outputs": [
        {
          "output_type": "stream",
          "text": [
            "Accuracy of our model for test set is: 13 %\n"
          ],
          "name": "stdout"
        }
      ]
    },
    {
      "cell_type": "markdown",
      "metadata": {
        "id": "0QJ32TP4LaLH"
      },
      "source": [
        "With a small change in the test data set, our model was not able to recognize numbers like before. Just a simple `Adversarial attack`!"
      ]
    },
    {
      "cell_type": "markdown",
      "metadata": {
        "id": "WfnhXA8P8A8o"
      },
      "source": [
        "## **Sigmoid vs Leaky ReLU**"
      ]
    },
    {
      "cell_type": "code",
      "metadata": {
        "id": "7MRYjTmq6HC5"
      },
      "source": [
        "def RAI(fan_in, fan_out):\n",
        "    V = np.random.randn(fan_out, fan_in + 1) * 0.6007 / fan_in ** 0.5\n",
        "    for j in range(fan_out):\n",
        "        k = np.random.randint(0, high=fan_in + 1)\n",
        "        V[j, k] = np.random.beta(2, 1)\n",
        "    W = V[:, :-1]\n",
        "    b = np.reshape(V[:, -1], (fan_out, 1))\n",
        "    return W.astype(np.float32), b.astype(np.float32)"
      ],
      "execution_count": null,
      "outputs": []
    },
    {
      "cell_type": "markdown",
      "metadata": {
        "id": "_n-DidxWySlx"
      },
      "source": [
        "In this section, I use `Leaky ReLU` inseatd of sigmoid for activation function"
      ]
    },
    {
      "cell_type": "code",
      "metadata": {
        "id": "HQyr1CTIyl_z"
      },
      "source": [
        "W_1 = np.random.normal(0, 2 / 784, size=(16, 784))\n",
        "b_1 = np.zeros((16, 1))\n",
        "    \n",
        "W_2, b_2 = RAI(16, 16)\n",
        "\n",
        "W_3, b_3 = RAI(16, 10)\n",
        "\n",
        "W = [W_1, W_2, W_3]\n",
        "b = [b_1, b_2, b_3]"
      ],
      "execution_count": null,
      "outputs": []
    },
    {
      "cell_type": "code",
      "metadata": {
        "id": "M25qoduFyl_0"
      },
      "source": [
        "W, b, cost_arr = make_model(W, b, alpha=0.01, epoch_num=5, batch_size=50, data=train_df, activation_func='leaky-relu')"
      ],
      "execution_count": null,
      "outputs": []
    },
    {
      "cell_type": "code",
      "metadata": {
        "colab": {
          "base_uri": "https://localhost:8080/"
        },
        "id": "4eJxo72Qyl_0",
        "outputId": "a45f6e93-e2ca-49ec-d0bf-640ae52e6f98"
      },
      "source": [
        "train_accuracy = int(predict_and_accuracy_calculator(train_df, W, b, 'leaky-relu'))\n",
        "print('Accuracy of our model for train set is:', train_accuracy, '%')"
      ],
      "execution_count": null,
      "outputs": [
        {
          "output_type": "stream",
          "text": [
            "Accuracy of our model for train set is: 93 %\n"
          ],
          "name": "stdout"
        }
      ]
    },
    {
      "cell_type": "markdown",
      "metadata": {
        "id": "QXkwqDRsHSJl"
      },
      "source": [
        "`test_df` should be created again because in the previous section i shifted the images."
      ]
    },
    {
      "cell_type": "code",
      "metadata": {
        "id": "9_jT42SFHAKj"
      },
      "source": [
        "test_df = pd.DataFrame(data=test_set)"
      ],
      "execution_count": null,
      "outputs": []
    },
    {
      "cell_type": "code",
      "metadata": {
        "colab": {
          "base_uri": "https://localhost:8080/"
        },
        "id": "OgFMjuV7yl_1",
        "outputId": "8b51e5f4-1fb8-4d26-dc9d-333218dd7ab9"
      },
      "source": [
        "test_accuracy = int(predict_and_accuracy_calculator(test_df, W, b, 'leaky-relu'))\n",
        "print('Accuracy of our model for test set is:', test_accuracy, '%')"
      ],
      "execution_count": null,
      "outputs": [
        {
          "output_type": "stream",
          "text": [
            "Accuracy of our model for test set is: 93 %\n"
          ],
          "name": "stdout"
        }
      ]
    },
    {
      "cell_type": "markdown",
      "metadata": {
        "id": "bImQHZbPHUfz"
      },
      "source": [
        "`Leaky ReLU` worked well! Accuracy is a bit higher than `Sigmoid` activation."
      ]
    },
    {
      "cell_type": "code",
      "metadata": {
        "colab": {
          "base_uri": "https://localhost:8080/",
          "height": 265
        },
        "id": "3ESIXCcLyl_2",
        "outputId": "4d70cd8e-a23d-44d2-9cf8-a262b2993b05"
      },
      "source": [
        "import matplotlib.pyplot as plt\n",
        "plt.plot(cost_arr)\n",
        "plt.show()"
      ],
      "execution_count": null,
      "outputs": [
        {
          "output_type": "display_data",
          "data": {
            "image/png": "[encoded data removed]",
            "text/plain": [
              "<Figure size 432x288 with 1 Axes>"
            ]
          },
          "metadata": {
            "tags": [],
            "needs_background": "light"
          }
        }
      ]
    },
    {
      "cell_type": "markdown",
      "metadata": {
        "id": "yIuDSCql8J3m"
      },
      "source": [
        "## **Modified SGD (SGD with momentum)**"
      ]
    },
    {
      "cell_type": "code",
      "metadata": {
        "id": "FNzQTfNF8Nqe"
      },
      "source": [
        "# alpha is our learning rate\n",
        "alpha = 0.01\n",
        "epoch_num = 5\n",
        "batch_size = 50"
      ],
      "execution_count": null,
      "outputs": []
    },
    {
      "cell_type": "code",
      "metadata": {
        "id": "j3GQhrgalDdE"
      },
      "source": [
        "W, b = initialize()"
      ],
      "execution_count": null,
      "outputs": []
    },
    {
      "cell_type": "code",
      "metadata": {
        "id": "YOP3FkRhdzHo"
      },
      "source": [
        "data = train_df\n",
        "activation_func = 'sigmoid'\n",
        "beta = 0.7     # hyperparameter for momentum gradient descent\n",
        "\n",
        "v_d_W3 = np.zeros((10,16))\n",
        "v_d_b3 = np.zeros((10,1))\n",
        "\n",
        "v_d_W2 = np.zeros((16,16))\n",
        "v_d_b2 = np.zeros((16,1))\n",
        "\n",
        "v_d_W1 = np.zeros((16,784))\n",
        "v_d_b1 = np.zeros((16,1))\n",
        "\n",
        "cost_arr = []\n",
        "for e in range(epoch_num):\n",
        "  np.random.shuffle(data.values)\n",
        "  num_of_batches = int(np.ceil(len(data)/batch_size))\n",
        "  for batch_index in range(num_of_batches):\n",
        "\n",
        "    grad_W3 = np.zeros((10,16))\n",
        "    grad_b3 = np.zeros((10,1))\n",
        "\n",
        "    grad_W2 = np.zeros((16,16))\n",
        "    grad_b2 = np.zeros((16,1))\n",
        "\n",
        "    grad_W1 = np.zeros((16,784))\n",
        "    grad_b1 = np.zeros((16,1))\n",
        "\n",
        "    cost_batch = 0\n",
        "    \n",
        "    for image_index in range(batch_size*batch_index, batch_size*(batch_index+1)):\n",
        "\n",
        "      # forward propagation\n",
        "      a_1 = feedforward(W[0], data[0][image_index], b[0], activation_func)\n",
        "      a_2 = feedforward(W[1], a_1, b[1], activation_func)\n",
        "      a_3 = feedforward(W[2], a_2, b[2], activation_func)\n",
        "\n",
        "      cost_batch += cost_calculator(a_3, data[1][image_index])\n",
        "\n",
        "      z_3 = (W[2] @ a_2) + b[2]\n",
        "      z_2 = (W[1] @ a_1) + b[1]\n",
        "      z_1 = (W[0] @ data[0][image_index]) + b[0]\n",
        "\n",
        "\n",
        "      # backpropagation\n",
        "      # for output layer\n",
        "      grad_W3 += (2 * activation_deriv(z_3, activation_func) * (a_3 - data[1][image_index])) @ (np.transpose(a_2))\n",
        "      grad_b3 += (2 * activation_deriv(z_3, activation_func) * (a_3 - data[1][image_index]))\n",
        "\n",
        "      grad_a2 = np.zeros((16,1))\n",
        "      grad_a2 = np.transpose(W[2]) @ (2 * activation_deriv(z_3, activation_func) * (a_3 - data[1][image_index]))\n",
        "\n",
        "\n",
        "      # for hidden layer 2\n",
        "      grad_W2 += (activation_deriv(z_2, activation_func) * grad_a2) @ (np.transpose(a_1))\n",
        "      grad_b2 += (activation_deriv(z_2, activation_func) * grad_a2)\n",
        "\n",
        "      grad_a1 = np.zeros((16,1))\n",
        "      grad_a1 = np.transpose(W[1]) @ (2 * activation_deriv(z_2, activation_func) * grad_a2)\n",
        "\n",
        "\n",
        "      # for hidden layer 1\n",
        "      grad_W1 += (activation_deriv(z_1, activation_func) * grad_a1) @ (np.transpose(data[0][image_index]))\n",
        "      grad_b1 += (activation_deriv(z_1, activation_func) * grad_a1)\n",
        "\n",
        "    cost_arr.append(cost_batch)\n",
        "    cost_batch = 0\n",
        "    \n",
        "    # updating W metrices and b vectores\n",
        "    W[0] -= (alpha * v_d_W1)\n",
        "    W[1] -= (alpha * v_d_W2)\n",
        "    W[2] -= (alpha * v_d_W3)\n",
        "\n",
        "    b[0] -= (alpha * v_d_b1)\n",
        "    b[1] -= (alpha * v_d_b2)\n",
        "    b[2] -= (alpha * v_d_b3)\n",
        "\n",
        "    # updating V's\n",
        "    v_d_W1 = (beta * grad_W1)\n",
        "    v_d_W2 = (beta * grad_W2)  \n",
        "    v_d_W3 = (beta * grad_W3)  \n",
        "\n",
        "    v_d_b1 = (beta * grad_b1)  \n",
        "    v_d_b2 = (beta * grad_b2)  \n",
        "    v_d_b3 = (beta * grad_b3) "
      ],
      "execution_count": null,
      "outputs": []
    },
    {
      "cell_type": "code",
      "metadata": {
        "colab": {
          "base_uri": "https://localhost:8080/"
        },
        "id": "qqDHEdnrdzHt",
        "outputId": "83ba7551-09cf-4ae3-a00f-4634fbc89ff3"
      },
      "source": [
        "accuracy = int(predict_and_accuracy_calculator(train_df, W, b, 'sigmoid'))\n",
        "print('Accuracy of our model for training set is:', accuracy, '%')"
      ],
      "execution_count": null,
      "outputs": [
        {
          "output_type": "stream",
          "text": [
            "Accuracy of our model for training set is: 87 %\n"
          ],
          "name": "stdout"
        }
      ]
    },
    {
      "cell_type": "code",
      "metadata": {
        "colab": {
          "base_uri": "https://localhost:8080/"
        },
        "id": "V5O80-izdzHu",
        "outputId": "5c5b1b2d-c8af-41d8-927b-1135d731171f"
      },
      "source": [
        "accuracy = int(predict_and_accuracy_calculator(test_df, W, b, 'sigmoid'))\n",
        "print('Accuracy of our model for test set is:', accuracy, '%')"
      ],
      "execution_count": null,
      "outputs": [
        {
          "output_type": "stream",
          "text": [
            "Accuracy of our model for test set is: 87 %\n"
          ],
          "name": "stdout"
        }
      ]
    },
    {
      "cell_type": "code",
      "metadata": {
        "colab": {
          "base_uri": "https://localhost:8080/",
          "height": 265
        },
        "id": "zJ4haKl2dzHu",
        "outputId": "c7fbaa8c-69b3-49a4-cde2-596af9bd008c"
      },
      "source": [
        "import matplotlib.pyplot as plt\n",
        "plt.plot(cost_arr)\n",
        "plt.show()"
      ],
      "execution_count": null,
      "outputs": [
        {
          "output_type": "display_data",
          "data": {
            "image/png": "[encoded data removed]",
            "text/plain": [
              "<Figure size 432x288 with 1 Axes>"
            ]
          },
          "metadata": {
            "tags": [],
            "needs_background": "light"
          }
        }
      ]
    },
    {
      "cell_type": "markdown",
      "metadata": {
        "id": "pUEBCJE1S6oS"
      },
      "source": [
        "another way"
      ]
    },
    {
      "cell_type": "code",
      "metadata": {
        "id": "qDbHZiD28Nqm"
      },
      "source": [
        "W, b = initialize()"
      ],
      "execution_count": null,
      "outputs": []
    },
    {
      "cell_type": "code",
      "metadata": {
        "id": "eiqkl5MJ8Nqn"
      },
      "source": [
        "data = train_df\n",
        "activation_func = 'sigmoid'\n",
        "beta = 0.9     # hyperparameter for momentum gradient descent\n",
        "\n",
        "cost_arr = []\n",
        "for e in range(epoch_num):\n",
        "  np.random.shuffle(data.values)\n",
        "  num_of_batches = int(np.ceil(len(data)/batch_size))\n",
        "  for batch_index in range(num_of_batches):\n",
        "\n",
        "    grad_W3 = np.zeros((10,16))\n",
        "    grad_b3 = np.zeros((10,1))\n",
        "\n",
        "    grad_W2 = np.zeros((16,16))\n",
        "    grad_b2 = np.zeros((16,1))\n",
        "\n",
        "    grad_W1 = np.zeros((16,784))\n",
        "    grad_b1 = np.zeros((16,1))\n",
        "\n",
        "    v_d_W3 = np.random.standard_normal(size=(10, 16))\n",
        "    v_d_b3 = np.zeros((10,1))\n",
        "\n",
        "    v_d_W2 = np.random.standard_normal(size=(16, 16))\n",
        "    v_d_b2 = np.zeros((16,1))\n",
        "\n",
        "    v_d_W1 = np.random.standard_normal(size=(16, 784))\n",
        "    v_d_b1 = np.zeros((16,1))\n",
        "\n",
        "    cost_batch = 0\n",
        "    \n",
        "    for image_index in range(batch_size*batch_index, batch_size*(batch_index+1)):\n",
        "\n",
        "      # forward propagation\n",
        "      a_1 = feedforward(W[0], data[0][image_index], b[0], activation_func)\n",
        "      a_2 = feedforward(W[1], a_1, b[1], activation_func)\n",
        "      a_3 = feedforward(W[2], a_2, b[2], activation_func)\n",
        "\n",
        "      cost_batch += cost_calculator(a_3, data[1][image_index])\n",
        "\n",
        "      z_3 = (W[2] @ a_2) + b[2]\n",
        "      z_2 = (W[1] @ a_1) + b[1]\n",
        "      z_1 = (W[0] @ data[0][image_index]) + b[0]\n",
        "\n",
        "\n",
        "      # backpropagation\n",
        "      # for output layer\n",
        "      grad_W3 += (2 * activation_deriv(z_3, activation_func) * (a_3 - data[1][image_index])) @ (np.transpose(a_2))\n",
        "      grad_b3 += (2 * activation_deriv(z_3, activation_func) * (a_3 - data[1][image_index]))\n",
        "\n",
        "      grad_a2 = np.zeros((16,1))\n",
        "      grad_a2 = np.transpose(W[2]) @ (2 * activation_deriv(z_3, activation_func) * (a_3 - data[1][image_index]))\n",
        "\n",
        "\n",
        "      # for hidden layer 2\n",
        "      grad_W2 += (activation_deriv(z_2, activation_func) * grad_a2) @ (np.transpose(a_1))\n",
        "      grad_b2 += (activation_deriv(z_2, activation_func) * grad_a2)\n",
        "\n",
        "      grad_a1 = np.zeros((16,1))\n",
        "      grad_a1 = np.transpose(W[1]) @ (2 * activation_deriv(z_2, activation_func) * grad_a2)\n",
        "\n",
        "\n",
        "      # for hidden layer 1\n",
        "      grad_W1 += (activation_deriv(z_1, activation_func) * grad_a1) @ (np.transpose(data[0][image_index]))\n",
        "      grad_b1 += (activation_deriv(z_1, activation_func) * grad_a1)\n",
        "\n",
        "      v_d_W1 = (beta * v_d_W1) + grad_W1\n",
        "      v_d_b1 = (beta * v_d_b1) + grad_b1\n",
        "      \n",
        "      v_d_W2 = (beta * v_d_W2) + grad_W2\n",
        "      v_d_b2 = (beta * v_d_b2) + grad_b2\n",
        "      \n",
        "      v_d_W3 = (beta * v_d_W3) + grad_W3\n",
        "      v_d_b3 = (beta * v_d_b3) + grad_b3\n",
        "\n",
        "\n",
        "    cost_arr.append(cost_batch)\n",
        "    cost_batch = 0\n",
        "\n",
        "    # upgrading W metrices and b vectores\n",
        "    W[0] -= (alpha * v_d_W1)\n",
        "    W[1] -= (alpha * v_d_W2)\n",
        "    W[2] -= (alpha * v_d_W3)\n",
        "\n",
        "    b[0] -= (alpha * v_d_b1)\n",
        "    b[1] -= (alpha * v_d_b2)\n",
        "    b[2] -= (alpha * v_d_b3)"
      ],
      "execution_count": null,
      "outputs": []
    },
    {
      "cell_type": "code",
      "metadata": {
        "id": "bcY4YXKX8Nqo",
        "colab": {
          "base_uri": "https://localhost:8080/"
        },
        "outputId": "4af5f113-d336-479c-a4b9-a237ff603790"
      },
      "source": [
        "accuracy = int(predict_and_accuracy_calculator(train_df, W, b, 'sigmoid'))\n",
        "print('Accuracy of our model for training set is:', accuracy, '%')"
      ],
      "execution_count": null,
      "outputs": [
        {
          "output_type": "stream",
          "text": [
            "Accuracy of our model for training set is: 92 %\n"
          ],
          "name": "stdout"
        }
      ]
    },
    {
      "cell_type": "code",
      "metadata": {
        "colab": {
          "base_uri": "https://localhost:8080/"
        },
        "id": "IBCi9cwAmNvP",
        "outputId": "213f9c4b-b7ca-41ec-f46a-c3124d031a42"
      },
      "source": [
        "accuracy = int(predict_and_accuracy_calculator(test_df, W, b, 'sigmoid'))\n",
        "print('Accuracy of our model for test set is:', accuracy, '%')"
      ],
      "execution_count": null,
      "outputs": [
        {
          "output_type": "stream",
          "text": [
            "Accuracy of our model for test set is: 92 %\n"
          ],
          "name": "stdout"
        }
      ]
    },
    {
      "cell_type": "code",
      "metadata": {
        "id": "hF3Tz-Os8Nqp",
        "colab": {
          "base_uri": "https://localhost:8080/",
          "height": 265
        },
        "outputId": "8010f4c3-15f3-4364-e63a-55f286fcf3dc"
      },
      "source": [
        "import matplotlib.pyplot as plt\n",
        "plt.plot(cost_arr)\n",
        "plt.show()"
      ],
      "execution_count": null,
      "outputs": [
        {
          "output_type": "display_data",
          "data": {
            "image/png": "[encoded data removed]",
            "text/plain": [
              "<Figure size 432x288 with 1 Axes>"
            ]
          },
          "metadata": {
            "tags": [],
            "needs_background": "light"
          }
        }
      ]
    },
    {
      "cell_type": "markdown",
      "metadata": {
        "id": "BCZPJUXrlmm9"
      },
      "source": [
        "Cost function decreased **faster** than normal SGD. Also the accuracy is a bit higher than the model with normal SGD.\n",
        "\n"
      ]
    }
  ]
}